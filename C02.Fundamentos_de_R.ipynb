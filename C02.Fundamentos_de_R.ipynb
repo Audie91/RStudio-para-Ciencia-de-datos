{
 "cells": [
  {
   "cell_type": "markdown",
   "metadata": {},
   "source": [
    "<img src=\"logo.png\">"
   ]
  },
  {
   "cell_type": "markdown",
   "metadata": {},
   "source": [
    "# La Calculadora de R"
   ]
  },
  {
   "cell_type": "markdown",
   "metadata": {},
   "source": [
    "**R** está provisto por default de librerías que permiten utilizarlo como calculadora científica. La [jerarquía de operaciones *occidental*](https://www.todamateria.com/jerarquia-de-operaciones/) prevalece y además la gran mayoría de las funciones matemáticas que ocupa tienen el nombre *usual* de las calculadoras científicas."
   ]
  },
  {
   "cell_type": "markdown",
   "metadata": {},
   "source": [
    "## Ejemplos de uso de R como calculadora\n",
    "\n",
    "* Los comandos ```+```, ```-```, ```*```,```/``` y ```^``` tienen los significados usuales.\n",
    "* Para calcular raíces cuadradas de números positivos se escribe ```sqrt(ARG)```, donde, en principio, `ARG` es un real positivo.\n",
    "* El uso de funciones trigonométricas usuales (por default, calcula en radianes): ```sin(ARGUMENTO)```, ```cos(ARGUMENTO)```, ```tan(ARGUMENTO)```son el seno, coseno y tangente usuales del número ```ARGUMENTO```. Además por default tiene el valor de $\\pi$ guardado bajo el nombre ```pi```. Sin embargo, es propenso a cometer errores.\n",
    "  "
   ]
  },
  {
   "cell_type": "code",
   "execution_count": null,
   "metadata": {},
   "outputs": [],
   "source": [
    "help(pi)"
   ]
  },
  {
   "cell_type": "code",
   "execution_count": null,
   "metadata": {},
   "outputs": [],
   "source": [
    "sin(2*pi)"
   ]
  },
  {
   "cell_type": "code",
   "execution_count": null,
   "metadata": {},
   "outputs": [],
   "source": [
    "sinpi(2)"
   ]
  },
  {
   "cell_type": "markdown",
   "metadata": {},
   "source": [
    "* Para calcular exponenciales y logaritmos usamos ```exp(ARGUMENTO)``` y ```log(ARGUMENTO1,base = ARGUMENTO2)```, donde ```ARGUMENTO2``` es la base del logaritmo. En particular, el número $e$ se obtiene con ```exp(1)```. Sin embargo, nuevamente nos enfrentamos a problemas (que pueden resolverse usando la librería ```Rmpfr```)."
   ]
  },
  {
   "cell_type": "code",
   "execution_count": null,
   "metadata": {},
   "outputs": [],
   "source": [
    "exp(1)"
   ]
  },
  {
   "cell_type": "code",
   "execution_count": null,
   "metadata": {},
   "outputs": [],
   "source": [
    "log(exp(1))"
   ]
  },
  {
   "cell_type": "code",
   "execution_count": null,
   "metadata": {},
   "outputs": [],
   "source": [
    "log(100, base = 10)"
   ]
  },
  {
   "cell_type": "code",
   "execution_count": null,
   "metadata": {},
   "outputs": [],
   "source": [
    "exp(710)"
   ]
  },
  {
   "cell_type": "code",
   "execution_count": null,
   "metadata": {},
   "outputs": [],
   "source": [
    "install.packages(\"Rmpfr\")"
   ]
  },
  {
   "cell_type": "code",
   "execution_count": null,
   "metadata": {},
   "outputs": [],
   "source": [
    "library(Rmpfr)"
   ]
  },
  {
   "cell_type": "code",
   "execution_count": null,
   "metadata": {},
   "outputs": [],
   "source": [
    "exp(mpfr(710, precBits = 54))"
   ]
  },
  {
   "cell_type": "markdown",
   "metadata": {},
   "source": [
    "* La [división entera](https://www.ditutor.com/numeros_naturales/division_entera.html) de los números ```ARG1``` y ```ARG2```, en ese orden, se obtiene escribiendo ```ARG1 %/% ARG2```. Es decir, es el resultado de hacer $\\left\\lfloor\\frac{\\mathrm{ARG1}}{\\mathrm{ARG2}}\\right\\rfloor$ donde $\\lfloor\\cdot\\rfloor$ es la función *parte entera* usual.\n",
    "* El módulo (o residuo) de ```ARG1``` respecto de ```ARG2``` se obtiene escribiendo ```ARG1 %% ARG2```. Es decir, si $\\mathrm{ARG1}=\\mathrm{ARG2}\\cdot b+r$, donde $|r|<\\mathrm{ARG2}$, entonces $r$ es el resultado de ```ARG1 %% ARG2```.\n"
   ]
  },
  {
   "cell_type": "code",
   "execution_count": null,
   "metadata": {},
   "outputs": [],
   "source": [
    "26 / 3; 26 %/% 3; 26 %% 3 ### 23 = 3 * 8 + 2 y |2|<3"
   ]
  },
  {
   "cell_type": "code",
   "execution_count": null,
   "metadata": {},
   "outputs": [],
   "source": [
    "24.3 / 2; 24.3 %/% 2; 24.3 %% 2 ### 24.3 = 2 * 12 + 0.3"
   ]
  },
  {
   "cell_type": "markdown",
   "metadata": {},
   "source": [
    "* Las funciones combinatorias [*factorial* (de ``ARG1``)](https://www.smartick.es/blog/matematicas/recursos-didacticos/factoriales/), denotado por $\\mathrm{ARG1}!$, y [*coeficiente binomial*](https://es.wikipedia.org/wiki/Coeficiente_binomial) (\"`ARG1` en `ARG2`\", denotado por $\\binom{\\mathrm{ARG1}}{\\mathrm{ARG1}}$) se obtienen escribiendo, respectivamente, ``factorial(ARG1)`` y ``choose(ARG1,ARG2)``."
   ]
  },
  {
   "cell_type": "code",
   "execution_count": null,
   "metadata": {},
   "outputs": [],
   "source": [
    "factorial(6)"
   ]
  },
  {
   "cell_type": "code",
   "execution_count": null,
   "metadata": {},
   "outputs": [],
   "source": [
    "choose(5,2)"
   ]
  },
  {
   "cell_type": "markdown",
   "metadata": {},
   "source": [
    "# Generalidades de R y RStudio\n",
    "\n",
    "## Comentarios\n",
    "\n",
    "En **R** podemos indicar que una línea es un comentario escribiendo el símbolo numeral: ```#```. Este puede ser usado tantas veces como se quiera y suele aplicarse en varios renglones si el comentario es muy largo."
   ]
  },
  {
   "cell_type": "code",
   "execution_count": null,
   "metadata": {},
   "outputs": [],
   "source": [
    "# Este es un comentario corto.\n",
    "\n",
    "1 + 2\n",
    "\n",
    "### Este también es un comentario corto.\n",
    "\n",
    "1 + 2 + 3\n",
    "\n",
    "#######################   David Hilbert   #######################\n",
    "# David Hilbert (Königsberg, Prusia Oriental; 23 de enero de 1862-Gotinga, Alemania; 14 de febrero de 1943) fue un\n",
    "# matemático alemán, reconocido como uno de los más influyentes del siglo XIX y principios del XX. Estableció su reputación\n",
    "# como gran matemático y científico inventando y/o desarrollando un gran abanico de ideas, como la teoría de invariantes,\n",
    "# la axiomatización de la geometría y la noción de espacio de Hilbert, uno de los fundamentos del análisis funcional. \n",
    "\n",
    "1 + 2 + 3 + 4\n",
    "\n"
   ]
  },
  {
   "cell_type": "markdown",
   "metadata": {},
   "source": [
    "## Uso de la Ayuda\n",
    "\n",
    "Para pedir ayuda sobre objetos predefinidos en **R** podemos utilizar dos caminos: ```help(OBJ)``` o ```?OBJ``` donde ```OBJ``` es el objeto del que queremos saber.\n"
   ]
  },
  {
   "cell_type": "code",
   "execution_count": null,
   "metadata": {},
   "outputs": [],
   "source": [
    "help(seq)"
   ]
  },
  {
   "cell_type": "code",
   "execution_count": null,
   "metadata": {},
   "outputs": [],
   "source": [
    "?round"
   ]
  },
  {
   "cell_type": "markdown",
   "metadata": {},
   "source": [
    "## Autocomplementado de texto\n",
    "\n",
    "En **RStudio** existe también la ayuda del autocomplementado, que sirve para ahorrar tiempo y mostrar breves ayudas sobre los objetos predefinidos. Para activarla, se pulsa la tecla `TAB`\n"
   ]
  },
  {
   "cell_type": "markdown",
   "metadata": {},
   "source": [
    "## Ejecución de líneas desde script\n",
    "\n",
    "En un *script*, la ejecución de líneas específicas se hace sombreando las líneas que nos interesa ejecutar seguidas de la combinación de teclas ```Ctrl```+```r``` en **R** clásico y ```Ctrl```+```Intro``` en **RStudio**."
   ]
  },
  {
   "cell_type": "markdown",
   "metadata": {},
   "source": [
    "# Operadores de asignación y nombres de las variables\n",
    "\n",
    "## Operadores de asignación\n",
    "\n",
    "Los operadores de asignación sirven para guardar en el ambiente actual el valor de una variable mediante un nombre. En el caso de **R** y **RStudio**, los operadores de asignación son `<-`, `->` y `=` y la sintaxis es ``NOM <- OBJ``, ``OBJ -> NOM`` y `NOM = OBJ` donde `NOM` es el nombre que asignamos y `OBJ` es el valor que guardaremos bajo ese nombre.\n",
    "\n"
   ]
  },
  {
   "cell_type": "code",
   "execution_count": null,
   "metadata": {},
   "outputs": [],
   "source": [
    "x <- 2 * pi"
   ]
  },
  {
   "cell_type": "code",
   "execution_count": null,
   "metadata": {},
   "outputs": [],
   "source": [
    "x / 2"
   ]
  },
  {
   "cell_type": "code",
   "execution_count": null,
   "metadata": {},
   "outputs": [],
   "source": [
    "3 * pi -> y"
   ]
  },
  {
   "cell_type": "code",
   "execution_count": null,
   "metadata": {},
   "outputs": [],
   "source": [
    "sin(y)"
   ]
  },
  {
   "cell_type": "code",
   "execution_count": null,
   "metadata": {},
   "outputs": [],
   "source": [
    "z1 = 4 * pi"
   ]
  },
  {
   "cell_type": "code",
   "execution_count": null,
   "metadata": {},
   "outputs": [],
   "source": [
    "( z2 = round(sqrt(5),4) )"
   ]
  },
  {
   "cell_type": "markdown",
   "metadata": {},
   "source": [
    "La combinación de teclas rápidas para obtener `<-` es `Alt`+`-`"
   ]
  },
  {
   "cell_type": "markdown",
   "metadata": {},
   "source": [
    "## Nombre de una variable\n",
    "\n",
    "En la Ciencia de datos (particularmente en la Administración de datos) es de suma importancia que los nombres asignados a nuestros valores sean descriptivos. El lenguaje **R** tiene restricciones para asignar nombres: los nombres no pueden ser palabras reservadas y no pueden iniciar con números o caracteres extraños.  "
   ]
  },
  {
   "cell_type": "code",
   "execution_count": null,
   "metadata": {},
   "outputs": [],
   "source": [
    "1numerodeeuler <- exp(1)"
   ]
  },
  {
   "cell_type": "code",
   "execution_count": null,
   "metadata": {},
   "outputs": [],
   "source": [
    "if  <- exp(1)"
   ]
  },
  {
   "cell_type": "code",
   "execution_count": null,
   "metadata": {},
   "outputs": [],
   "source": [
    "&numerodeeuler  <- exp(1)"
   ]
  },
  {
   "cell_type": "code",
   "execution_count": null,
   "metadata": {},
   "outputs": [],
   "source": [
    "( numerodeeuler  <- exp(1) )  \n",
    "\n",
    "### Pero sí permite usar acentos aunque no es muy común\n",
    "\n",
    "( medionúmerodeeuler <- numerodeeuler/2 )"
   ]
  },
  {
   "cell_type": "markdown",
   "metadata": {},
   "source": [
    "### Estilos de nombres.\n",
    "\n",
    "Existen una serie de estilos que se han tomado como estilos genéricos entre los programadores.\n",
    "* Estilo de serpiente (snake_case): heredado de la programación en Python.\n",
    "* Estilo de camello (SnakeCase): es heredado de la programación en móviles.\n",
    "* Estilo con puntos (point.case): es propio de la programación en **R**.\n",
    "* Cualquier mezcla de los anteriores."
   ]
  },
  {
   "cell_type": "code",
   "execution_count": null,
   "metadata": {},
   "outputs": [],
   "source": [
    "numero_de_euler <- exp(1)\n",
    "NumeroDeEuler <- exp(1)\n",
    "numero.de.euler <- exp(1)\n",
    "numero_de.Euler <- exp(1)"
   ]
  },
  {
   "cell_type": "markdown",
   "metadata": {},
   "source": [
    "# Tipos de datos\n",
    "\n",
    "En todo lenguaje de programación que maneje datos existen dos clasificaciones de datos en general: *atómicos* y *estructurados*.\n",
    "\n",
    "Un *dato atómico* es aquel que se considera unidad mínima de información (como los números), en tanto que un *dato estructurado* es una colección de datos atómicos.\n",
    "\n"
   ]
  },
  {
   "cell_type": "markdown",
   "metadata": {},
   "source": [
    "Entre los tipos de **datos atómicos** tenemos:\n",
    "\n",
    "**Lógico** Son datos que sólo permite los valores lógicos de verdadero (TRUE) o falso (FALSE).\n",
    "\n",
    "**Numérico** Son datos cuyos valores son números reales.\n",
    "\n",
    "**Complejo** Son datos cuyos valores son números complejos.\n",
    "\n",
    "**Caracter** Son datos cuyos valores son cualquier tipo de carácter o cadena. Técnicamente en realidad son datos estructurados, pero para fines prácticos se les considera atómicos.\n"
   ]
  },
  {
   "cell_type": "markdown",
   "metadata": {},
   "source": [
    "Por otra parte, entre los tipos de **datos estructurados** tenemos:\n",
    "\n",
    "**Arrays** son colecciones multidimensionales de datos.\n",
    "\n",
    "**Vectores** son arrays unidimensionales. Cada uno de sus elementos es del mismo tipo.\n",
    "\n",
    "**Matrices** son arrays de dos dimensiones. Todos sus datos son del mismo tipo.\n",
    "\n",
    "**Dataframes** son arrays de dos dimensiones. Los datos en cada columna son del mismo tipo, pero por cada fila pueden variar. Son conocidos como tablas de bases de datos.\n",
    "\n",
    "**Listas** son colecciones unidimensionales donde cada uno de sus elementos es otro dato de cualquier tipo (atómico o estructurado). En conjunto, sus datos pueden ser de diferente tipo. \n"
   ]
  },
  {
   "cell_type": "markdown",
   "metadata": {},
   "source": [
    "# Funciones\n",
    "\n",
    "En todo lenguaje de programación la construcción de funciones resulta fundamental; particularmente en la programación orientada a objetos. Ya hemos tenido oportunidad de trabajar con algunas como `seq()` y `round()`."
   ]
  },
  {
   "cell_type": "markdown",
   "metadata": {},
   "source": [
    "## Funciones importantes para el manejo de datos.\n",
    "\n",
    "Todo dato en **R** tiene asociadas dos propiedades importantes: la clase y su longitud. Estas se obtienen con las funciones `class(OBJ)` y `length(OBJ)`. "
   ]
  },
  {
   "cell_type": "code",
   "execution_count": null,
   "metadata": {},
   "outputs": [],
   "source": [
    "class(1); class(2+3i); class(\"hola\")"
   ]
  },
  {
   "cell_type": "code",
   "execution_count": null,
   "metadata": {},
   "outputs": [],
   "source": [
    "class(c(1,2,3))"
   ]
  },
  {
   "cell_type": "code",
   "execution_count": 1,
   "metadata": {
    "scrolled": true
   },
   "outputs": [],
   "source": [
    "BD <- data.frame(\"Num_lista\" = c(1,2,3,4), \"Nombre\" = c(\"Hugo\", \"Paco\", \"Luis\",\"Conchita\"), \"Apellido\" = c(\"García\", \"Rulfo\", \"Hilbert\",\"Alonso\"))"
   ]
  },
  {
   "cell_type": "code",
   "execution_count": null,
   "metadata": {},
   "outputs": [],
   "source": [
    "BD"
   ]
  },
  {
   "cell_type": "code",
   "execution_count": 7,
   "metadata": {},
   "outputs": [
    {
     "data": {
      "text/html": [
       "'data.frame'"
      ],
      "text/latex": [
       "'data.frame'"
      ],
      "text/markdown": [
       "'data.frame'"
      ],
      "text/plain": [
       "[1] \"data.frame\""
      ]
     },
     "metadata": {},
     "output_type": "display_data"
    }
   ],
   "source": [
    "class(BD)"
   ]
  },
  {
   "cell_type": "code",
   "execution_count": 3,
   "metadata": {},
   "outputs": [
    {
     "data": {
      "text/html": [
       "1"
      ],
      "text/latex": [
       "1"
      ],
      "text/markdown": [
       "1"
      ],
      "text/plain": [
       "[1] 1"
      ]
     },
     "metadata": {},
     "output_type": "display_data"
    }
   ],
   "source": [
    "length(1)"
   ]
  },
  {
   "cell_type": "code",
   "execution_count": 4,
   "metadata": {},
   "outputs": [
    {
     "data": {
      "text/html": [
       "1"
      ],
      "text/latex": [
       "1"
      ],
      "text/markdown": [
       "1"
      ],
      "text/plain": [
       "[1] 1"
      ]
     },
     "metadata": {},
     "output_type": "display_data"
    }
   ],
   "source": [
    "length(1+2i)"
   ]
  },
  {
   "cell_type": "code",
   "execution_count": 5,
   "metadata": {},
   "outputs": [
    {
     "data": {
      "text/html": [
       "1"
      ],
      "text/latex": [
       "1"
      ],
      "text/markdown": [
       "1"
      ],
      "text/plain": [
       "[1] 1"
      ]
     },
     "metadata": {},
     "output_type": "display_data"
    }
   ],
   "source": [
    "length(\"hola\")"
   ]
  },
  {
   "cell_type": "code",
   "execution_count": 6,
   "metadata": {},
   "outputs": [
    {
     "data": {
      "text/html": [
       "2"
      ],
      "text/latex": [
       "2"
      ],
      "text/markdown": [
       "2"
      ],
      "text/plain": [
       "[1] 2"
      ]
     },
     "metadata": {},
     "output_type": "display_data"
    }
   ],
   "source": [
    "length(c(\"hola\",\"mundo\"))"
   ]
  },
  {
   "cell_type": "code",
   "execution_count": null,
   "metadata": {},
   "outputs": [],
   "source": [
    "length(BD)"
   ]
  },
  {
   "cell_type": "code",
   "execution_count": null,
   "metadata": {},
   "outputs": [],
   "source": [
    "length(BD$Nombre)"
   ]
  },
  {
   "cell_type": "markdown",
   "metadata": {},
   "source": [
    "### Funciones especiales\n",
    "\n",
    "Algunas funciones especiales sirven para operar con ciertos tipos de datos. Ejemplos de estas son\n",
    "\n",
    "* *unique*: su sintaxis es `unique(OBJ)` donde `OBJ` es un vector. Nos devolverá otro vector cuyos elementos son los mismos que `OBJ` pero quitando las repeticiones y respetando el orden de aparición.\n",
    "\n",
    "&nbsp;\n",
    "* *paste* y *paste0* sirven para concatenar. Las sintaxis son ``paste(ARG1,ARG2,...,ARGn, sep = \"SEPARADOR\")`` y `paste0(ARG1,ARG2,...,ARGn)` donde `SEPARADOR` es el símbolo que se usa para concatenar los argumentos. `paste0` corresponde a usar `sep=\"\"` en `paste` (no usar separadores). Los argumentos pueden ser de diferente tipo, pero todos deben tener una equivalencia en la clase caracter.\n",
    "\n",
    "&nbsp;\n",
    "* *View* sirve para mejorar la visualización de tablas. La sintaxis es `View(OBJ)`, donde `OBJ` generalmente es un array bidimensional. \n",
    "\n",
    "&nbsp;\n",
    "* *dim* devuelve las dimensiones de arrays que no sean listas. Su sintaxis es `dim(OBJ)`. Devuelve un vector numérico cuya longitud es el número de dimensiones del array. En arrays bidimensionales su primer entrada es el número de filas y su segunda entrada es el número de columnas. En el caso de arrays tridimensionales, la tercera entrada indica la *posición vertical*.\n",
    "\n",
    "&nbsp;\n",
    "* La familia de funciones *apply*. Constituyen probablemente las funciones mas importantes para trabajar con arrays, pues permiten realizar mútiples acciones, usualmente repetitivas, sin ayuda de ciclos y de manera mucho más rápida (ver los tres últimos videos del **Diplomado Programador Jr en R** de SciData)."
   ]
  },
  {
   "cell_type": "markdown",
   "metadata": {},
   "source": [
    "## Construcción de funciones\n",
    "\n",
    "En el lenguaje **R** es importante el saber construir funciones que realicen tareas específicas que tal vez no se encuentren implementadas en el mismo lenguaje (o simplemente porque es difícil de interpretar la ayuda).\n",
    "\n",
    "La sintaxis general para construir una función es:\n",
    "\n",
    "```\n",
    "NOMBRE_DE_LA_FUNCION <- function(PAR1,PAR2,...,PARn){\n",
    "    CUERPO\n",
    "    RESULTADO\n",
    "    }\n",
    "```"
   ]
  },
  {
   "cell_type": "code",
   "execution_count": null,
   "metadata": {},
   "outputs": [],
   "source": [
    "### Función para resolver cualquier ecuación de segundo grado \n",
    "### Los parámetros a,b,c corresponden a la ecuación ax^2 + bx + c=0\n",
    "solver_equation <- function(a,b,c){\n",
    "    x1 <- (-b - sqrt(b^2-4*a*c+0i))/(2*a)\n",
    "    x2 <- (-b + sqrt(b^2-4*a*c+0i))/(2*a)\n",
    "    c(x1,x2)\n",
    "    }"
   ]
  },
  {
   "cell_type": "code",
   "execution_count": null,
   "metadata": {},
   "outputs": [],
   "source": [
    "### Resolver la ecuación x^2 + 2x + 1 = 0\n",
    "solver_equation(1,2,1)"
   ]
  },
  {
   "cell_type": "code",
   "execution_count": null,
   "metadata": {},
   "outputs": [],
   "source": [
    "### Resolver la ecuación x^2 + 2x + 1 = 0\n",
    "solver_equation(1,2,1)"
   ]
  },
  {
   "cell_type": "code",
   "execution_count": null,
   "metadata": {},
   "outputs": [],
   "source": [
    "### Resolver la ecuación x^2 -2x + 5 =0\n",
    "solver_equation(1,-2,5)"
   ]
  },
  {
   "cell_type": "code",
   "execution_count": null,
   "metadata": {},
   "outputs": [],
   "source": [
    "Im(solver_equation(1,-2,5)[1])"
   ]
  },
  {
   "cell_type": "code",
   "execution_count": null,
   "metadata": {},
   "outputs": [],
   "source": [
    "### Función para resolver cualquier ecuación de segundo grado pero la salida tiene mejor estética.\n",
    "### Los parámetros a,b,c corresponden a la ecuación ax^2 + bx + c = 0\n",
    "###     * En el caso de que haya raíz doble, devuelve la única raíz. \n",
    "###     * Si las raíces son reales, devuelve un vector numérico. En caso contrario devuelve un vector complejo.\n",
    "\n",
    "solver_equation_adv <- function(a,b,c){\n",
    "\n",
    "    if(a == 0){return(\"El primer argumento debe ser diferente de 0\")}\n",
    "    \n",
    "    if(Im(solver_equation(a,b,c)[1]) == 0 & Im(solver_equation(a,b,c)[2]) == 0) \n",
    "        {as.numeric(unique(solver_equation(a,b,c)))}\n",
    "    else{\n",
    "        unique(solver_equation(a,b,c))}\n",
    "    \n",
    "}"
   ]
  },
  {
   "cell_type": "code",
   "execution_count": null,
   "metadata": {},
   "outputs": [],
   "source": [
    "solver_equation_adv(0,1,1)"
   ]
  },
  {
   "cell_type": "code",
   "execution_count": null,
   "metadata": {},
   "outputs": [],
   "source": [
    "solver_equation_adv(1,2,1)"
   ]
  },
  {
   "cell_type": "code",
   "execution_count": null,
   "metadata": {},
   "outputs": [],
   "source": [
    "solver_equation_adv(1,-2,5)"
   ]
  },
  {
   "cell_type": "code",
   "execution_count": null,
   "metadata": {},
   "outputs": [],
   "source": [
    "solver_equation(1i,-1+1i,-1i)"
   ]
  },
  {
   "cell_type": "code",
   "execution_count": null,
   "metadata": {},
   "outputs": [],
   "source": [
    "solver_equation_adv(1,0,1)"
   ]
  },
  {
   "cell_type": "markdown",
   "metadata": {},
   "source": [
    "# Áreas de trabajo\n",
    "\n",
    "El IDE de **RStudio** está dividido en cuatro secciones:\n",
    "\n",
    "1. Zona del editor: donde se escribe el código (scripts y markdowns).\n",
    "2. Zona de consola: donde se ubican la consola, la terminal del SO y errores de markdowns.\n",
    "3. Zona de salidas: brinda información como paquetes instalados y gráficación.\n",
    "4. Zona de entorno: variables actuales e historial."
   ]
  },
  {
   "cell_type": "markdown",
   "metadata": {},
   "source": [
    "## Scripts\n",
    "\n",
    "Los scripts de **R Studio** tienen la ventaja de que en la barra izquierda aparecen ciertos símbolos. Es importante ir notando su aparición.\n",
    "\n",
    "Dicho lo anterior, una buena costumbre para la elaboración de un script es comenzar en el siguiente orden\n",
    "\n",
    "```\n",
    "###### Instalar los paquetes necesarios y que no se hayan instalado previamente en alguna sesión. Es posible hacerlo en una ###### solo línea utilizando la sintaxis\n",
    "# install.packages(c(\"NOMBRE_DEL_PAQUETE_A_INSTALAR\",\"NOMBRE_DEL_PAQUETE_A_INSTALAR\",...,\"NOMBRE_DEL_PAQUETE_A_INSTALAR\"))\n",
    "###### pero no es recomendable\n",
    "\n",
    "install.packages(\"NOMBRE_DEL_PAQUETE_A_INSTALAR\")\n",
    "install.packages(\"NOMBRE_DEL_PAQUETE_A_INSTALAR\")\n",
    "...\n",
    "install.packages(\"NOMBRE_DEL_PAQUETE_A_INSTALAR\")\n",
    "\n",
    "###### Llamar las bibliotecas necesarias. Es posible hacerlo en una ###### solo línea utilizando la sintaxis\n",
    "# library(c(\"BIBLIOTECA_A_UTILIZAR\",\"BIBLIOTECA_A_UTILIZAR\",...,\"BIBLIOTECA_A_UTILIZAR\"))\n",
    "###### pero no es recomendable\n",
    "\n",
    "library(BIBLIOTECA_A_UTILIZAR)\n",
    "library(BIBLIOTECA_A_UTILIZAR)\n",
    "...\n",
    "library(BIBLIOTECA_A_UTILIZAR)\n",
    "\n",
    "###### Dirigirnos a la ubicación en la PC donde trabajaremos o de donde extraeremos nuestras bases de datos.\n",
    "\n",
    "setwd(\"DIRECCIÓN\") ## Recordar que en Linux y Mac las diagonales deben ser de la forma /, mientras que en \n",
    "                   ## Windows se usa \\\\ o /\n",
    "```\n",
    "\n"
   ]
  },
  {
   "cell_type": "markdown",
   "metadata": {},
   "source": [
    "## Rutas y directorios de trabajo\n",
    "\n",
    "Como vimos anteriormente, para dirigirnos a un lugar específico dentro de nuestra computadora utilizamos la instrucción `setwd(\"DIRECCIÓN\")` donde la escritura de `DIRECCIÓN` obedece al SO que estemos usando. Independientemente de esto, podemos ayudarnos de la tecla `TAB` para autocomplementar las direcciones.\n",
    "\n",
    "Por otra parte, para saber en qué lugar estamos parados utilizamos la función (sin argumentos) `getwd()`.\n",
    "\n"
   ]
  },
  {
   "cell_type": "markdown",
   "metadata": {},
   "source": [
    "# Proyectos en R Studio\n",
    "\n",
    "Los expertos de **R** prefieren mantener todos los ficheros (bases de datos, imágenes, scripts) en *proyectos*. Básicamente los proyectos son la manera mas ordenada de organizar nuestros espacios de trabajo. A continuación veremos algunos ejemplos que son mejor explicarlos en la práctica que en estas notas."
   ]
  }
 ],
 "metadata": {
  "kernelspec": {
   "display_name": "R",
   "language": "R",
   "name": "ir"
  },
  "language_info": {
   "codemirror_mode": "r",
   "file_extension": ".r",
   "mimetype": "text/x-r-source",
   "name": "R",
   "pygments_lexer": "r",
   "version": "3.6.2"
  }
 },
 "nbformat": 4,
 "nbformat_minor": 4
}
