{
 "cells": [
  {
   "cell_type": "markdown",
   "metadata": {},
   "source": [
    "<img src=\"logo.png\">"
   ]
  },
  {
   "cell_type": "markdown",
   "metadata": {},
   "source": [
    "# C04. Visualización de datos\n",
    "\n",
    "En este capítulo nos enfocaremos en la representación visual de datos mediante el paquete *ggplot2*.\n",
    "\n",
    "Nuestro objetivo es meternos a análisis exploratorio de datos. Contaremos con tablas *limpias*, principalmente **mpg** y **diamonds**.\n",
    "\n",
    ">\"La representación gráfica más simple siempre es capaz de transmitir\n",
    ">>mas información al analista que cualquier otra forma de trabajo que use\"\n",
    ">>>[John W. Tuckey](https://es.wikipedia.org/wiki/John_W._Tukey)"
   ]
  }
 ],
 "metadata": {
  "kernelspec": {
   "display_name": "R",
   "language": "R",
   "name": "ir"
  },
  "language_info": {
   "codemirror_mode": "r",
   "file_extension": ".r",
   "mimetype": "text/x-r-source",
   "name": "R",
   "pygments_lexer": "r",
   "version": "3.6.2"
  }
 },
 "nbformat": 4,
 "nbformat_minor": 2
}
