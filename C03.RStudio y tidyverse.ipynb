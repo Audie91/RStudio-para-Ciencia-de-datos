{
 "cells": [
  {
   "cell_type": "markdown",
   "metadata": {},
   "source": [
    "<img src=\"logo.png\">"
   ]
  },
  {
   "cell_type": "markdown",
   "metadata": {},
   "source": [
    "# C03. RStudio y tidyverse\n",
    "\n",
    "## Tidyverse\n",
    "\n",
    "En principio, todas las técnicas usuales para hacer Ciencia de datos, al menos con RStudio, son realizables tal como lo mostramos en las Sesiones 05 y 06 mediante, por ejemplo, el uso de las funciones **apply**. Además, recordemos que una parte importante de estas técnicas incluyen la *representación gráfica* de los datos y la lectura de bases de datos.\n",
    "\n",
    "En lugar de descargar una por una las paqueterías usuales para este trabajo, Wickham desarrolló una *filosofía de relaciones entre paquetes* que debería existir entre estas librerías de uso cotidiano para el científico de datos y que le facilitara el trabajo. A esta filosofía se le conoce como **tidyverso** (universo ordenado) y tiene su mayor logro en la creación de una sola librería que contiene diferentes paquetes diseñados para este fin.\n",
    "\n",
    "En [**The tidy tools manifesto**](https://cran.rstudio.com/web/packages/tidyverse/vignettes/manifesto.html) de Hadley Wickham se puede encontrar esta filosofía. Los cuatro principios básicos en los que se basa son:\n",
    "\n",
    "    1. Reutilizar las estructuras de datos\n",
    "    2. Resolver problemas complejos combinando varias piezas sencillas\n",
    "    3. Utilizar la programación funcional\n",
    "    4. Diseñar para humanos\n",
    "    \n",
    "Los paquetes incluidos en Tidyverse tienen como objetivo cubrir todas las fases de la Ciencia de datos dentro de R: importar datos, ponerlos en formato ordenado (tidy), buscar relaciones entre ellos (mediante su transformación, visualización y creación de modelos) y comunicar los resultados. \n",
    "\n",
    "Además de los paquetes principales que realizan estas funciones, al instalar el Tidyverse también se proporcionan otros que ayudan a trabajar con fechas, cadenas de caracteres o factores siguiendo los mismos principios."
   ]
  },
  {
   "cell_type": "markdown",
   "metadata": {},
   "source": [
    "## Los paquetes de tidyverse\n",
    "\n",
    "A continuación describiremos brevemente cada uno de los paquetes de tidyverse. A su debido tiempo los aprenderemos a utilizar todos.\n",
    "\n",
    "### readr\n",
    "\n",
    "El paquete *readr* tiene como función el importar (leer) y exportar archivos. Sus funciones son 10 veces más rápidas que las versiones clásicas (como read.dbf).\n",
    "\n",
    "### dplyr\n",
    "\n",
    "Sirve para modificar variables de la siguiente manera:\n",
    "\n",
    "   **mutate** para generar nuevas variables y que vienen de variables ya existentes.\n",
    "    \n",
    "   **select** para seleccionar variables basadas en su nombre.\n",
    "    \n",
    "   **filter** para seleccionar filas de acuerdo a si cumplen o no con condiciones en una o mas variables.\n",
    "    \n",
    "   **summarize** para resumir las variables.\n",
    "    \n",
    "   **arrange** para reordenar las filas de acuerdo a alguna variable. \n",
    "    \n",
    "\n",
    "### tidyr\n",
    "\n",
    "Tiene como finalidad el tomar bases de datos y transformalas en bases con datos limpios y ordenados. \n",
    "\n",
    "### ggplot2\n",
    "\n",
    "Una vez que una base de datos está limpia y ordenada, podemos usar ggplot2 para visualizar estos datos. Los datos pueden ser categóricos, continuos e incluso espaciales. \n",
    "\n",
    "### purrr\n",
    "\n",
    "Permite formular ciclos de una forma más sencilla e intuitiva que los usuales. \n",
    "\n",
    "### forcats\n",
    "Trabajar con factores es una de las labores más complejas en R, es por eso que se creó el paquete forcats (Wickham 2018a). \n",
    "\n",
    "### stringr\n",
    "El modíficar variables de texto para hacer que las variables tengan sentido humano es algo muy importante. Para este tipo de modificaciones se utiliza el paquete stringr.\n"
   ]
  }
 ],
 "metadata": {
  "kernelspec": {
   "display_name": "R",
   "language": "R",
   "name": "ir"
  },
  "language_info": {
   "codemirror_mode": "r",
   "file_extension": ".r",
   "mimetype": "text/x-r-source",
   "name": "R",
   "pygments_lexer": "r",
   "version": "3.6.2"
  }
 },
 "nbformat": 4,
 "nbformat_minor": 2
}
