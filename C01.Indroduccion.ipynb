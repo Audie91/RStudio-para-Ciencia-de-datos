{
 "cells": [
  {
   "cell_type": "markdown",
   "metadata": {},
   "source": [
    "<img src=\"logo.png\">"
   ]
  },
  {
   "cell_type": "markdown",
   "metadata": {},
   "source": [
    "# Prerrequisitos\n",
    "\n",
    "Los prerrequisitos matemáticos para este curso son\n",
    "* Un buen entendimiento de **Álgebra Lineal**\n",
    "* Conocimiento general de **Cálculo**\n",
    "* Entendimiento general de **Estadística** (es deseable conocer Estadística Inferencial).\n"
   ]
  },
  {
   "cell_type": "markdown",
   "metadata": {},
   "source": [
    "# ¿Qué demonios es la Ciencia de datos?\n",
    "\n",
    "Los datos, como tal, representan la mínima información que podemos, humanos y computadoras, para entener.\n",
    "    \n",
    "No se trata de un diccionario raro, sino de toda un estudio. Tenemos por ejemplo a Marvkov.\n",
    "    \n",
    "Hace unos años, un *estadístico* era considerado como un recolector de información que únicamente hacía eso: recolectar información.\n",
    "    \n",
    "Luego llegó la famosa *minería de datos* y esto llevó a acuñar el término *Analítica de los datos*. jajaja.\n",
    "\n",
    "Y ¿qué pasó con los estadísticos?\n"
   ]
  },
  {
   "cell_type": "markdown",
   "metadata": {},
   "source": [
    "# Vamos a tomar un tiempo para ver hacemos en Ciencia de Datos\n",
    "\n",
    "* Estudio de casos de negocio\n",
    "* Analítica cualitativa\n",
    "* Rerporte de cuadros de mando\n",
    "* **Pronóstico** de los eventos"
   ]
  },
  {
   "cell_type": "markdown",
   "metadata": {},
   "source": [
    "## Análisis Vs Analítica\n",
    "\n",
    "¿Lo que un día fué no será\n"
   ]
  },
  {
   "cell_type": "markdown",
   "metadata": {},
   "source": [
    "## Datos\n",
    "\n",
    "Los *datos* se definen como *la información almacenada en formato digital que puede utilizarse como base para llevar a cabo un análisis y tomar decisiones*"
   ]
  },
  {
   "cell_type": "markdown",
   "metadata": {},
   "source": [
    "### Macrodatos\n",
    "\n",
    "Los macrodatos son datos muy *grandes*. Cumplen ciertas características genéricas:\n",
    "* **Volumen:** son un montón.\n",
    "* **Variedad:** no son solo números.\n",
    "* **Velocidad:** ser capaces de calcularos rápido.\n"
   ]
  },
  {
   "cell_type": "markdown",
   "metadata": {},
   "source": [
    "Nos toca aprender el siguiente diagrama"
   ]
  },
  {
   "cell_type": "markdown",
   "metadata": {},
   "source": [
    "<img src=\"cdatos_infografia.png\">"
   ]
  },
  {
   "cell_type": "markdown",
   "metadata": {},
   "source": [
    "**Datos brutos**\n",
    "\n",
    "Es la información adquirida de manera directa-\n",
    "\n",
    "\n"
   ]
  }
 ],
 "metadata": {
  "kernelspec": {
   "display_name": "R",
   "language": "R",
   "name": "ir"
  },
  "language_info": {
   "codemirror_mode": "r",
   "file_extension": ".r",
   "mimetype": "text/x-r-source",
   "name": "R",
   "pygments_lexer": "r",
   "version": "3.6.2"
  }
 },
 "nbformat": 4,
 "nbformat_minor": 2
}
