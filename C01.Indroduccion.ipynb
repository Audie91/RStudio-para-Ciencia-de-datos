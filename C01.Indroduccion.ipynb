{
 "cells": [
  {
   "cell_type": "markdown",
   "metadata": {},
   "source": [
    "<img src=\"logo.png\">"
   ]
  },
  {
   "cell_type": "markdown",
   "metadata": {},
   "source": [
    "# Prerrequisitos\n",
    "\n",
    "Los prerrequisitos matemáticos para este curso son\n",
    "* Un buen entendimiento de **Álgebra Lineal**\n",
    "* Conocimiento general de **Cálculo**\n",
    "* Entendimiento general de **Estadística** (es deseable conocer Estadística Inferencial).\n"
   ]
  },
  {
   "cell_type": "markdown",
   "metadata": {},
   "source": [
    "# ¿Qué demonios es la Ciencia de datos?\n",
    "\n",
    "Los datos, como tal, representan la mínima información que podemos, humanos y computadoras, entender.\n",
    "    \n",
    "No se trata de un diccionario raro, sino de todo un estudio. Tenemos por ejemplo a Markov.\n",
    "    \n",
    "Hace unos años, un *estadístico* era considerado como un recolector de información que únicamente hacía eso: recolectar información.\n",
    "    \n",
    "Luego llegó la famosa *minería de datos* y esto llevó a acuñar el término *Analítica de los datos*. jajaja.\n",
    "\n",
    "Y ¿qué pasó con los estadísticos?"
   ]
  },
  {
   "cell_type": "markdown",
   "metadata": {},
   "source": [
    "# Vamos a tomar un tiempo para darnos una idea de qué se hace en Ciencia de Datos\n",
    "\n",
    "* Estudio de casos de negocio\n",
    "* Analítica cualitativa\n",
    "* Reporte de cuadros de mando\n",
    "* **Pronóstico** de los eventos"
   ]
  },
  {
   "cell_type": "markdown",
   "metadata": {},
   "source": [
    "## Análisis Vs Analítica\n",
    "\n",
    "¿Lo que un día fué no será?\n"
   ]
  },
  {
   "cell_type": "markdown",
   "metadata": {},
   "source": [
    "## Datos computacionales\n",
    "\n",
    "Los *datos* se definen como *la información almacenada en formato digital que puede utilizarse como base para llevar a cabo un análisis y tomar decisiones*"
   ]
  },
  {
   "cell_type": "markdown",
   "metadata": {},
   "source": [
    "### Macrodatos\n",
    "\n",
    "Los macrodatos son datos muy *grandes*. Cumplen ciertas características genéricas:\n",
    "* **Volumen:** son un montón.\n",
    "* **Variedad:** no son solo números y caracteres\n",
    "* **Velocidad:** ser capaces de calcularlos rápido.\n"
   ]
  },
  {
   "cell_type": "markdown",
   "metadata": {},
   "source": [
    "Nos toca aprender el siguiente diagrama"
   ]
  },
  {
   "cell_type": "markdown",
   "metadata": {},
   "source": [
    "<img src=\"cdatos_infografia.png\">"
   ]
  },
  {
   "cell_type": "markdown",
   "metadata": {},
   "source": [
    "**¿Qué son las métricas?**\n",
    "\n",
    "Son valores que tienen por objeto evaluar el rendimiento o progreso de un negocio o más general, de una investigación.\n",
    "\n",
    "En general las métricas tienen una interpretación, de modo que no solo son número fríos.\n",
    "\n",
    "*Métrica = medida estadística + interpretación del fenómeno*\n",
    "\n",
    "Es posible calcular miles de métricas en un solo *experimento*. Sin embargo, esto es sinceramente inútil. Las métricas que te van a interesar particularmente en tu análisis se conocen como KPI's.\n",
    "\n",
    "\n",
    "\n"
   ]
  },
  {
   "cell_type": "markdown",
   "metadata": {},
   "source": [
    "**¿Qué son las KPI's?**\n",
    "\n",
    "KPI's = métricas + objetivo del estudio = indicadores clave de desempeño\n",
    "  "
   ]
  }
 ],
 "metadata": {
  "kernelspec": {
   "display_name": "R",
   "language": "R",
   "name": "ir"
  },
  "language_info": {
   "codemirror_mode": "r",
   "file_extension": ".r",
   "mimetype": "text/x-r-source",
   "name": "R",
   "pygments_lexer": "r",
   "version": "3.6.2"
  }
 },
 "nbformat": 4,
 "nbformat_minor": 2
}
